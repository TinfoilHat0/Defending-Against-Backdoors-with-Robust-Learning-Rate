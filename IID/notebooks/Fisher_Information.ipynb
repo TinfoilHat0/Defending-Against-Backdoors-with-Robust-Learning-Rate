{
 "cells": [
  {
   "cell_type": "code",
   "execution_count": 1,
   "metadata": {},
   "outputs": [],
   "source": [
    "import sys\n",
    "sys.path.insert(1, '../src/')\n",
    "import torch\n",
    "from tqdm.notebook import tqdm\n",
    "import torch.nn as nn\n",
    "import torch.optim as optim\n",
    "from torch.optim import lr_scheduler\n",
    "import numpy as np\n",
    "import torchvision\n",
    "from torchvision import datasets,transforms\n",
    "from torch.utils.tensorboard import SummaryWriter\n",
    "from torch.utils.data import DataLoader\n",
    "from torch.nn.utils import vector_to_parameters, parameters_to_vector\n",
    "import matplotlib.pyplot as plt\n",
    "import time\n",
    "import os\n",
    "import copy\n",
    "import utils\n",
    "from torchsummary import summary\n",
    "import models\n",
    "import random\n",
    "import torch.nn.functional as F\n",
    "import shutil\n",
    "from torchsummary import summary\n",
    "import torch\n",
    "import torch.nn.functional as F\n",
    "from PIL import Image\n",
    "import os\n",
    "import json\n",
    "import numpy as np\n",
    "from matplotlib.colors import LinearSegmentedColormap\n",
    "import torchvision\n",
    "from torchvision import transforms\n",
    "from captum.attr import LayerConductance\n",
    "from captum.attr import IntegratedGradients\n",
    "from captum.attr import GradientShap\n",
    "from captum.attr import Occlusion\n",
    "from captum.attr import NoiseTunnel\n",
    "from captum.attr import visualization as viz\n",
    "%matplotlib inline\n",
    "import matplotlib.pyplot as plt\n",
    "import matplotlib.image as mpimg\n",
    "from matplotlib import cm\n",
    "from copy import deepcopy\n",
    "import torch\n",
    "from torch import nn\n",
    "from torch.nn import functional as F\n",
    "from torch.autograd import Variable\n",
    "import torch.utils.data\n",
    "import math"
   ]
  },
  {
   "cell_type": "code",
   "execution_count": 2,
   "metadata": {},
   "outputs": [],
   "source": [
    "torch.backends.cudnn.enabled = True\n",
    "torch.backends.cudnn.benchmark = True"
   ]
  },
  {
   "cell_type": "code",
   "execution_count": 3,
   "metadata": {},
   "outputs": [],
   "source": [
    "class args:\n",
    "    model_file='iid_clean_model.pt'\n",
    "    data='fmnist'\n",
    "    bs = 256\n",
    "    device = 'cuda:0'\n",
    "    lr = 0.1\n",
    "    moment = 0.9\n",
    "    wd = 0\n",
    "    epochs=50\n",
    "    nesterov = True\n",
    "    base_class = 5\n",
    "    target_class = 7\n",
    "    poison_frac = 0.05\n",
    "    pattern_type='+'\n",
    "    top_frac = 1e-2"
   ]
  },
  {
   "cell_type": "code",
   "execution_count": 4,
   "metadata": {},
   "outputs": [],
   "source": [
    "train_dataset, val_dataset = utils.get_datasets(args.data)\n",
    "idxs = (val_dataset.targets == args.base_class).nonzero().flatten().tolist()\n",
    "poisoned_val_set = utils.DatasetSplit(copy.deepcopy(val_dataset), idxs)\n",
    "utils.poison_dataset(poisoned_val_set.dataset, args, poison_all=True)"
   ]
  },
  {
   "cell_type": "code",
   "execution_count": 5,
   "metadata": {},
   "outputs": [],
   "source": [
    "val_loader =  DataLoader(val_dataset, batch_size=len(val_dataset), shuffle=False, num_workers=2, pin_memory=True)\n",
    "poisoned_val_loader = DataLoader(poisoned_val_set, batch_size=args.bs, shuffle=False, num_workers=0, pin_memory=True) "
   ]
  },
  {
   "cell_type": "code",
   "execution_count": 6,
   "metadata": {},
   "outputs": [],
   "source": [
    "model_clean = torch.load(args.model_file).eval()\n",
    "model_adv = torch.load('iid_nodefense_model.pt')\n",
    "criterion = nn.CrossEntropyLoss().to(args.device)\n",
    "model_params = parameters_to_vector(model_adv.parameters())"
   ]
  },
  {
   "cell_type": "code",
   "execution_count": 7,
   "metadata": {},
   "outputs": [],
   "source": [
    "def comp_diag_fisher(model_params, data_loader):\n",
    "    \n",
    "    model = models.get_model(args.data)\n",
    "    vector_to_parameters(model_params, model.parameters())\n",
    "    params = {n: p for n, p in model.named_parameters() if p.requires_grad}\n",
    "    precision_matrices = {}\n",
    "    for n, p in deepcopy(params).items():\n",
    "        p.data.zero_()\n",
    "        precision_matrices[n] = p.data\n",
    "        \n",
    "        \n",
    "    model.eval()\n",
    "    for _, (inputs, labels) in enumerate(data_loader):\n",
    "        model.zero_grad()\n",
    "        inputs, labels = inputs.to(device=args.device, non_blocking=True),\\\n",
    "                                labels.to(device=args.device, non_blocking=True).view(-1, 1)\n",
    "        outputs = model(inputs)\n",
    "        log_all_probs = F.log_softmax(outputs, dim=1)\n",
    "        target_log_probs = outputs.gather(1, labels)\n",
    "        batch_target_log_probs = target_log_probs.sum()\n",
    "        batch_target_log_probs.backward()\n",
    "        \n",
    "        for n, p in model.named_parameters():\n",
    "            precision_matrices[n].data += (p.grad.data ** 2) / len(data_loader.dataset)\n",
    "            \n",
    "    return parameters_to_vector(precision_matrices.values()).detach()"
   ]
  },
  {
   "cell_type": "code",
   "execution_count": 8,
   "metadata": {},
   "outputs": [],
   "source": [
    "adv_params = parameters_to_vector(model_adv.parameters())\n",
    "clean_params = parameters_to_vector(model_clean.parameters())\n",
    "_, indices = comp_diag_fisher(adv_params, poisoned_val_loader).sort()"
   ]
  },
  {
   "cell_type": "code",
   "execution_count": 9,
   "metadata": {},
   "outputs": [],
   "source": [
    "top_indices_idx = math.floor(len(indices)*args.top_frac)"
   ]
  },
  {
   "cell_type": "code",
   "execution_count": 10,
   "metadata": {},
   "outputs": [],
   "source": [
    "top_params_adv = adv_params[indices[-top_indices_idx:]]"
   ]
  },
  {
   "cell_type": "code",
   "execution_count": 11,
   "metadata": {},
   "outputs": [],
   "source": [
    "top_params_clean = clean_params[indices[-top_indices_idx:]]"
   ]
  },
  {
   "cell_type": "code",
   "execution_count": 12,
   "metadata": {},
   "outputs": [
    {
     "data": {
      "text/plain": [
       "0.004903815541861616"
      ]
     },
     "execution_count": 12,
     "metadata": {},
     "output_type": "execute_result"
    }
   ],
   "source": [
    "(torch.sign(top_params_clean) == torch.sign(top_params_adv)).sum().item() / len(indices)"
   ]
  },
  {
   "cell_type": "code",
   "execution_count": 13,
   "metadata": {},
   "outputs": [],
   "source": [
    "indice =  random.sample(range(len(clean_params)), 100)\n",
    "indice = torch.tensor(indice)\n"
   ]
  },
  {
   "cell_type": "code",
   "execution_count": 14,
   "metadata": {},
   "outputs": [],
   "source": [
    "sampled_values = clean_params[indice]"
   ]
  },
  {
   "cell_type": "code",
   "execution_count": 15,
   "metadata": {},
   "outputs": [
    {
     "data": {
      "text/plain": [
       "tensor(-0.0027, device='cuda:0', grad_fn=<SelectBackward>)"
      ]
     },
     "execution_count": 15,
     "metadata": {},
     "output_type": "execute_result"
    }
   ],
   "source": [
    "clean_params[indice[0]]"
   ]
  },
  {
   "cell_type": "code",
   "execution_count": 20,
   "metadata": {},
   "outputs": [],
   "source": [
    "t = sampled_values.cpu().detach().numpy()"
   ]
  },
  {
   "cell_type": "code",
   "execution_count": 22,
   "metadata": {},
   "outputs": [
    {
     "data": {
      "text/plain": [
       "tensor([-5.5050e-01, -1.1130e-01, -9.1826e-02, -8.0111e-02, -6.1961e-02,\n",
       "        -5.3785e-02, -5.3553e-02, -5.3233e-02, -5.0382e-02, -4.6156e-02,\n",
       "        -4.6036e-02, -4.6009e-02, -4.5807e-02, -4.5443e-02, -3.8943e-02,\n",
       "        -3.8536e-02, -3.7964e-02, -3.6003e-02, -3.2627e-02, -2.9844e-02,\n",
       "        -2.9557e-02, -2.8984e-02, -2.5639e-02, -2.4291e-02, -2.2209e-02,\n",
       "        -2.1418e-02, -1.9410e-02, -1.9051e-02, -1.8818e-02, -1.7951e-02,\n",
       "        -1.6195e-02, -1.4247e-02, -1.3428e-02, -1.3398e-02, -1.2479e-02,\n",
       "        -1.0225e-02, -8.8634e-03, -8.3835e-03, -8.2482e-03, -7.9961e-03,\n",
       "        -7.9933e-03, -7.3583e-03, -7.0098e-03, -5.9064e-03, -5.0853e-03,\n",
       "        -4.8861e-03, -4.5651e-03, -3.0822e-03, -2.9881e-03, -2.6612e-03,\n",
       "        -1.5203e-03, -3.1622e-04,  1.3897e-03,  1.9241e-03,  2.0392e-03,\n",
       "         2.3581e-03,  2.4028e-03,  2.5994e-03,  3.1765e-03,  4.1285e-03,\n",
       "         4.9352e-03,  5.0809e-03,  5.5784e-03,  5.6284e-03,  6.2095e-03,\n",
       "         6.6068e-03,  6.6484e-03,  7.3526e-03,  8.0179e-03,  8.7066e-03,\n",
       "         8.9193e-03,  9.1427e-03,  1.1044e-02,  1.1261e-02,  1.1353e-02,\n",
       "         1.2048e-02,  1.2833e-02,  1.3651e-02,  1.4012e-02,  1.5383e-02,\n",
       "         1.5430e-02,  1.6202e-02,  1.7595e-02,  2.0478e-02,  2.0529e-02,\n",
       "         2.3343e-02,  2.4574e-02,  2.6252e-02,  2.6390e-02,  2.6409e-02,\n",
       "         3.1223e-02,  3.3197e-02,  3.4643e-02,  3.6200e-02,  3.8537e-02,\n",
       "         4.3747e-02,  5.3905e-02,  5.4438e-02,  6.8509e-02,  1.2263e-01])"
      ]
     },
     "execution_count": 22,
     "metadata": {},
     "output_type": "execute_result"
    }
   ],
   "source": [
    "torch.Tensor(np.intersect1d(t, t))"
   ]
  },
  {
   "cell_type": "code",
   "execution_count": null,
   "metadata": {},
   "outputs": [],
   "source": []
  }
 ],
 "metadata": {
  "kernelspec": {
   "display_name": "Python 3.7.3 64-bit ('base': conda)",
   "language": "python",
   "name": "python37364bitbaseconda2893f7c78e4248a9bda8fc39f732a94d"
  },
  "language_info": {
   "codemirror_mode": {
    "name": "ipython",
    "version": 3
   },
   "file_extension": ".py",
   "mimetype": "text/x-python",
   "name": "python",
   "nbconvert_exporter": "python",
   "pygments_lexer": "ipython3",
   "version": "3.7.3"
  }
 },
 "nbformat": 4,
 "nbformat_minor": 2
}
