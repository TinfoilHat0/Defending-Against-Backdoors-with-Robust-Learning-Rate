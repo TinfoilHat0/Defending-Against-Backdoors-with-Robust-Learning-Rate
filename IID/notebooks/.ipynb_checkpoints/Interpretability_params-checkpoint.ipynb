{
 "cells": [
  {
   "cell_type": "code",
   "execution_count": 1,
   "metadata": {},
   "outputs": [],
   "source": [
    "import sys\n",
    "sys.path.insert(1, '../src/')\n",
    "import torch\n",
    "from tqdm.notebook import tqdm\n",
    "import torch.nn as nn\n",
    "import torch.optim as optim\n",
    "from torch.optim import lr_scheduler\n",
    "import numpy as np\n",
    "import torchvision\n",
    "from torchvision import datasets,transforms\n",
    "from torch.utils.tensorboard import SummaryWriter\n",
    "from torch.utils.data import DataLoader\n",
    "from torch.nn.utils import vector_to_parameters, parameters_to_vector\n",
    "import matplotlib.pyplot as plt\n",
    "import time\n",
    "import os\n",
    "import copy\n",
    "import utils\n",
    "from torchsummary import summary\n",
    "import models\n",
    "import random\n",
    "import torch.nn.functional as F\n",
    "import shutil\n",
    "from torchsummary import summary\n",
    "import torch\n",
    "import torch.nn.functional as F\n",
    "from PIL import Image\n",
    "import os\n",
    "import json\n",
    "import numpy as np\n",
    "from matplotlib.colors import LinearSegmentedColormap\n",
    "import torchvision\n",
    "from torchvision import models\n",
    "from torchvision import transforms\n",
    "from captum.attr import LayerConductance\n",
    "from captum.attr import IntegratedGradients\n",
    "from captum.attr import GradientShap\n",
    "from captum.attr import Occlusion\n",
    "from captum.attr import NoiseTunnel\n",
    "from captum.attr import visualization as viz\n",
    "%matplotlib inline\n",
    "import matplotlib.pyplot as plt\n",
    "import matplotlib.image as mpimg\n",
    "from matplotlib import cm"
   ]
  },
  {
   "cell_type": "code",
   "execution_count": 2,
   "metadata": {},
   "outputs": [],
   "source": [
    "torch.backends.cudnn.enabled = True\n",
    "torch.backends.cudnn.benchmark = True"
   ]
  },
  {
   "cell_type": "code",
   "execution_count": 3,
   "metadata": {},
   "outputs": [],
   "source": [
    "class args:\n",
    "    model_file='iid_clean_model.pt'\n",
    "    data='fmnist'\n",
    "    bs = 256\n",
    "    device = 'cuda:0'\n",
    "    lr = 0.1\n",
    "    moment = 0.9\n",
    "    wd = 0\n",
    "    epochs=50\n",
    "    nesterov = True\n",
    "    base_class = 5\n",
    "    target_class = 7\n",
    "    poison_frac = 0.05\n",
    "    pattern_type='+'"
   ]
  },
  {
   "cell_type": "code",
   "execution_count": 4,
   "metadata": {},
   "outputs": [],
   "source": [
    "train_dataset, val_dataset = utils.get_datasets(args.data)\n",
    "idxs = (val_dataset.targets == args.base_class).nonzero().flatten().tolist()\n",
    "poisoned_val_set = utils.DatasetSplit(copy.deepcopy(val_dataset), idxs)\n",
    "utils.poison_dataset(poisoned_val_set.dataset, args, poison_all=True)"
   ]
  },
  {
   "cell_type": "code",
   "execution_count": 5,
   "metadata": {},
   "outputs": [],
   "source": [
    "val_loader =  DataLoader(val_dataset, batch_size=len(val_dataset), shuffle=False, num_workers=2, pin_memory=True)\n",
    "poisoned_val_loader = DataLoader(poisoned_val_set, batch_size=args.bs, shuffle=False, num_workers=0, pin_memory=True) "
   ]
  },
  {
   "cell_type": "code",
   "execution_count": 6,
   "metadata": {},
   "outputs": [],
   "source": [
    "model_clean = torch.load(args.model_file).eval()\n",
    "model_adv = torch.load('iid_nodefense_model.pt').eval()\n",
    "criterion = nn.CrossEntropyLoss().to(args.device)"
   ]
  },
  {
   "cell_type": "code",
   "execution_count": 21,
   "metadata": {},
   "outputs": [
    {
     "data": {
      "text/plain": [
       "CNN_FMNIST(\n",
       "  (conv1): Conv2d(1, 32, kernel_size=(3, 3), stride=(1, 1))\n",
       "  (conv2): Conv2d(32, 64, kernel_size=(3, 3), stride=(1, 1))\n",
       "  (max_pool): MaxPool2d(kernel_size=(2, 2), stride=(2, 2), padding=0, dilation=1, ceil_mode=False)\n",
       "  (drop1): Dropout2d(p=0.5, inplace=False)\n",
       "  (fc1): Linear(in_features=9216, out_features=128, bias=True)\n",
       "  (drop2): Dropout2d(p=0.5, inplace=False)\n",
       "  (fc2): Linear(in_features=128, out_features=10, bias=True)\n",
       ")"
      ]
     },
     "execution_count": 21,
     "metadata": {},
     "output_type": "execute_result"
    }
   ],
   "source": [
    "model_clean"
   ]
  },
  {
   "cell_type": "code",
   "execution_count": 7,
   "metadata": {},
   "outputs": [],
   "source": [
    "_, (imgs, labels) = next(enumerate(poisoned_val_loader))\n",
    "idx = (labels==args.target_class).nonzero()[25].item()"
   ]
  },
  {
   "cell_type": "code",
   "execution_count": 8,
   "metadata": {
    "scrolled": true
   },
   "outputs": [
    {
     "data": {
      "text/plain": [
       "<matplotlib.image.AxesImage at 0x7f04c200a0b8>"
      ]
     },
     "execution_count": 8,
     "metadata": {},
     "output_type": "execute_result"
    },
    {
     "data": {
      "image/png": "[encoded data removed]",
      "text/plain": [
       "<Figure size 432x288 with 1 Axes>"
      ]
     },
     "metadata": {
      "needs_background": "light"
     },
     "output_type": "display_data"
    }
   ],
   "source": [
    "img = imgs[idx]\n",
    "plt.imshow(img.squeeze(0).cpu().numpy())"
   ]
  },
  {
   "cell_type": "code",
   "execution_count": 9,
   "metadata": {},
   "outputs": [],
   "source": [
    "img = img.view(1, 1, 28, 28).to(args.device)"
   ]
  },
  {
   "cell_type": "code",
   "execution_count": 10,
   "metadata": {},
   "outputs": [],
   "source": [
    "output = model_adv(img)"
   ]
  },
  {
   "cell_type": "code",
   "execution_count": 11,
   "metadata": {},
   "outputs": [
    {
     "name": "stdout",
     "output_type": "stream",
     "text": [
      "Predicted: 7 ( 1.0 )\n"
     ]
    }
   ],
   "source": [
    "output = F.softmax(output, dim=1)\n",
    "prediction_score, pred_label_idx = torch.topk(output, 1)\n",
    "\n",
    "pred_label_idx.squeeze_()\n",
    "predicted_label = pred_label_idx.item()\n",
    "print('Predicted:', predicted_label, '(', prediction_score.squeeze().item(), ')')"
   ]
  },
  {
   "cell_type": "code",
   "execution_count": 12,
   "metadata": {},
   "outputs": [],
   "source": [
    "clean_filter_importance = []\n",
    "layer_cond = LayerConductance(model_clean, model_clean.conv2)\n",
    "attribution_clean = layer_cond.attribute(img, target=5)[0]\n",
    "for flt in attribution_clean:\n",
    "    flt_importance = flt.flatten().sum().item()\n",
    "    clean_filter_importance.append(flt_importance)\n"
   ]
  },
  {
   "cell_type": "code",
   "execution_count": 22,
   "metadata": {},
   "outputs": [],
   "source": [
    "adv_filter_importance = []\n",
    "layer_cond = LayerConductance(model_adv, model_adv.conv2)\n",
    "attribution_adv = layer_cond.attribute(img, target=7)[0]\n",
    "for flt in attribution_adv:\n",
    "    flt_importance = flt.flatten().sum().item()\n",
    "    adv_filter_importance.append(flt_importance)"
   ]
  },
  {
   "cell_type": "code",
   "execution_count": 14,
   "metadata": {},
   "outputs": [
    {
     "data": {
      "text/plain": [
       "array([28,  7, 19,  1, 16, 12, 13, 30,  4, 31, 26, 23,  8, 11,  2,  6, 22,\n",
       "       15,  9,  3, 27, 29, 25, 14, 21, 10,  0, 24, 20,  5, 18, 17])"
      ]
     },
     "execution_count": 14,
     "metadata": {},
     "output_type": "execute_result"
    }
   ],
   "source": [
    "np.argsort(clean_filter_importance)"
   ]
  },
  {
   "cell_type": "code",
   "execution_count": 15,
   "metadata": {},
   "outputs": [
    {
     "data": {
      "text/plain": [
       "array([ 8, 12, 25,  1,  4, 11, 28, 26, 13,  9, 10,  6,  0, 19,  5, 31, 20,\n",
       "       16, 24, 30,  2, 29, 23,  7, 14, 21, 27, 22, 18,  3, 15, 17])"
      ]
     },
     "execution_count": 15,
     "metadata": {},
     "output_type": "execute_result"
    }
   ],
   "source": [
    "np.argsort(adv_filter_importance)"
   ]
  },
  {
   "cell_type": "code",
   "execution_count": 17,
   "metadata": {},
   "outputs": [
    {
     "data": {
      "text/plain": [
       "16.417293548583984"
      ]
     },
     "execution_count": 17,
     "metadata": {},
     "output_type": "execute_result"
    }
   ],
   "source": [
    "max(adv_filter_importance)"
   ]
  },
  {
   "cell_type": "code",
   "execution_count": 19,
   "metadata": {},
   "outputs": [
    {
     "data": {
      "text/plain": [
       "[3.004901885986328,\n",
       " -1.1851415634155273,\n",
       " 0.3220263719558716,\n",
       " 1.3158669471740723,\n",
       " -0.1178739070892334,\n",
       " 3.3660531044006348,\n",
       " 0.8490149974822998,\n",
       " -2.3639869689941406,\n",
       " 0.17998367547988892,\n",
       " 1.140702486038208,\n",
       " 2.2531843185424805,\n",
       " 0.3167264759540558,\n",
       " -1.010604977607727,\n",
       " -0.4303826093673706,\n",
       " 1.830844759941101,\n",
       " 0.9096808433532715,\n",
       " -1.0620789527893066,\n",
       " 6.925687789916992,\n",
       " 4.469684600830078,\n",
       " -2.3073160648345947,\n",
       " 3.1190953254699707,\n",
       " 1.8794269561767578,\n",
       " 0.8873245716094971,\n",
       " 0.06109058856964111,\n",
       " 3.0627033710479736,\n",
       " 1.8303875923156738,\n",
       " 0.04964339733123779,\n",
       " 1.531749963760376,\n",
       " -2.83602237701416,\n",
       " 1.7202415466308594,\n",
       " -0.2974238991737366,\n",
       " -0.026387691497802734]"
      ]
     },
     "execution_count": 19,
     "metadata": {},
     "output_type": "execute_result"
    }
   ],
   "source": [
    "clean_filter_importance"
   ]
  },
  {
   "cell_type": "code",
   "execution_count": null,
   "metadata": {},
   "outputs": [],
   "source": []
  }
 ],
 "metadata": {
  "kernelspec": {
   "display_name": "Python 3.7.3 64-bit ('base': conda)",
   "language": "python",
   "name": "python37364bitbaseconda2893f7c78e4248a9bda8fc39f732a94d"
  },
  "language_info": {
   "codemirror_mode": {
    "name": "ipython",
    "version": 3
   },
   "file_extension": ".py",
   "mimetype": "text/x-python",
   "name": "python",
   "nbconvert_exporter": "python",
   "pygments_lexer": "ipython3",
   "version": "3.7.3"
  }
 },
 "nbformat": 4,
 "nbformat_minor": 2
}
