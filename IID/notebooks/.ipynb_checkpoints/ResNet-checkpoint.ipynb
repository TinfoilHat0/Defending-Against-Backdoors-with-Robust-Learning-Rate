{
 "cells": [
  {
   "cell_type": "code",
   "execution_count": 1,
   "metadata": {},
   "outputs": [],
   "source": [
    "import sys\n",
    "sys.path.insert(1, '../src/')\n",
    "import torch\n",
    "from tqdm.notebook import tqdm\n",
    "import torch.nn as nn\n",
    "import torch.optim as optim\n",
    "from torch.optim import lr_scheduler\n",
    "import numpy as np\n",
    "import torchvision\n",
    "from torchvision import datasets,transforms\n",
    "from torch.utils.tensorboard import SummaryWriter\n",
    "from torch.utils.data import DataLoader\n",
    "from torch.nn.utils import vector_to_parameters, parameters_to_vector\n",
    "import matplotlib.pyplot as plt\n",
    "import inference as infer\n",
    "import time\n",
    "import os\n",
    "import copy\n",
    "import utils\n",
    "from torchsummary import summary\n",
    "import models\n",
    "import random\n",
    "import torch.nn.functional as F\n",
    "import shutil\n",
    "from torchsummary import summary"
   ]
  },
  {
   "cell_type": "code",
   "execution_count": 2,
   "metadata": {},
   "outputs": [],
   "source": [
    "torch.backends.cudnn.enabled = True\n",
    "torch.backends.cudnn.benchmark = True"
   ]
  },
  {
   "cell_type": "code",
   "execution_count": 3,
   "metadata": {},
   "outputs": [],
   "source": [
    "class args:\n",
    "    data='cifar10'\n",
    "    bs = 128\n",
    "    device = 'cuda:0'\n",
    "    lr = 0.1\n",
    "    moment = 0.9\n",
    "    wd = 5e-4\n",
    "    epochs=120\n",
    "    nesterov = False\n",
    "    base_class = 0 # airplane\n",
    "    target_class = 2 # bird \n",
    "    corruption_frac = 0.05"
   ]
  },
  {
   "cell_type": "code",
   "execution_count": 4,
   "metadata": {},
   "outputs": [],
   "source": [
    "train_dataset, val_dataset = utils.get_datasets(args.data)\n",
    "train_loader = DataLoader(train_dataset, batch_size=args.bs, shuffle=True, num_workers=4, pin_memory=False)\n",
    "val_loader =  DataLoader(val_dataset, batch_size=args.bs, shuffle=False, num_workers=4, pin_memory=False)"
   ]
  },
  {
   "cell_type": "code",
   "execution_count": 5,
   "metadata": {},
   "outputs": [
    {
     "name": "stdout",
     "output_type": "stream",
     "text": [
      "----------------------------------------------------------------\n",
      "        Layer (type)               Output Shape         Param #\n",
      "================================================================\n",
      "            Conv2d-1           [-1, 16, 32, 32]             432\n",
      "              ReLU-2           [-1, 16, 32, 32]               0\n",
      "            Conv2d-3           [-1, 16, 32, 32]           2,304\n",
      "              ReLU-4           [-1, 16, 32, 32]               0\n",
      "            Conv2d-5           [-1, 16, 32, 32]           2,304\n",
      "              ReLU-6           [-1, 16, 32, 32]               0\n",
      "   FixupBasicBlock-7           [-1, 16, 32, 32]               0\n",
      "            Conv2d-8           [-1, 16, 32, 32]           2,304\n",
      "              ReLU-9           [-1, 16, 32, 32]               0\n",
      "           Conv2d-10           [-1, 16, 32, 32]           2,304\n",
      "             ReLU-11           [-1, 16, 32, 32]               0\n",
      "  FixupBasicBlock-12           [-1, 16, 32, 32]               0\n",
      "           Conv2d-13           [-1, 16, 32, 32]           2,304\n",
      "             ReLU-14           [-1, 16, 32, 32]               0\n",
      "           Conv2d-15           [-1, 16, 32, 32]           2,304\n",
      "             ReLU-16           [-1, 16, 32, 32]               0\n",
      "  FixupBasicBlock-17           [-1, 16, 32, 32]               0\n",
      "           Conv2d-18           [-1, 32, 16, 16]           4,608\n",
      "             ReLU-19           [-1, 32, 16, 16]               0\n",
      "           Conv2d-20           [-1, 32, 16, 16]           9,216\n",
      "        AvgPool2d-21           [-1, 16, 16, 16]               0\n",
      "             ReLU-22           [-1, 32, 16, 16]               0\n",
      "  FixupBasicBlock-23           [-1, 32, 16, 16]               0\n",
      "           Conv2d-24           [-1, 32, 16, 16]           9,216\n",
      "             ReLU-25           [-1, 32, 16, 16]               0\n",
      "           Conv2d-26           [-1, 32, 16, 16]           9,216\n",
      "             ReLU-27           [-1, 32, 16, 16]               0\n",
      "  FixupBasicBlock-28           [-1, 32, 16, 16]               0\n",
      "           Conv2d-29           [-1, 32, 16, 16]           9,216\n",
      "             ReLU-30           [-1, 32, 16, 16]               0\n",
      "           Conv2d-31           [-1, 32, 16, 16]           9,216\n",
      "             ReLU-32           [-1, 32, 16, 16]               0\n",
      "  FixupBasicBlock-33           [-1, 32, 16, 16]               0\n",
      "           Conv2d-34             [-1, 64, 8, 8]          18,432\n",
      "             ReLU-35             [-1, 64, 8, 8]               0\n",
      "           Conv2d-36             [-1, 64, 8, 8]          36,864\n",
      "        AvgPool2d-37             [-1, 32, 8, 8]               0\n",
      "             ReLU-38             [-1, 64, 8, 8]               0\n",
      "  FixupBasicBlock-39             [-1, 64, 8, 8]               0\n",
      "           Conv2d-40             [-1, 64, 8, 8]          36,864\n",
      "             ReLU-41             [-1, 64, 8, 8]               0\n",
      "           Conv2d-42             [-1, 64, 8, 8]          36,864\n",
      "             ReLU-43             [-1, 64, 8, 8]               0\n",
      "  FixupBasicBlock-44             [-1, 64, 8, 8]               0\n",
      "           Conv2d-45             [-1, 64, 8, 8]          36,864\n",
      "             ReLU-46             [-1, 64, 8, 8]               0\n",
      "           Conv2d-47             [-1, 64, 8, 8]          36,864\n",
      "             ReLU-48             [-1, 64, 8, 8]               0\n",
      "  FixupBasicBlock-49             [-1, 64, 8, 8]               0\n",
      "AdaptiveAvgPool2d-50             [-1, 64, 1, 1]               0\n",
      "           Linear-51                   [-1, 10]             650\n",
      "================================================================\n",
      "Total params: 268,346\n",
      "Trainable params: 268,346\n",
      "Non-trainable params: 0\n",
      "----------------------------------------------------------------\n",
      "Input size (MB): 0.01\n",
      "Forward/backward pass size (MB): 3.58\n",
      "Params size (MB): 1.02\n",
      "Estimated Total Size (MB): 4.61\n",
      "----------------------------------------------------------------\n"
     ]
    }
   ],
   "source": [
    "model = models.get_model(args.data).to(args.device)\n",
    "optimizer = torch.optim.SGD(model.parameters(), lr=args.lr, momentum=args.moment, weight_decay=args.wd,\\\n",
    "                            nesterov=args.nesterov)\n",
    "criterion = nn.CrossEntropyLoss().to(args.device)\n",
    "scheduler = optim.lr_scheduler.ReduceLROnPlateau(optimizer, patience=15, factor=0.1, verbose=True)\n",
    "summary(model, (3, 32, 32))"
   ]
  },
  {
   "cell_type": "code",
   "execution_count": 6,
   "metadata": {},
   "outputs": [],
   "source": [
    "#scheduler = torch.optim.lr_scheduler.OneCycleLR(optimizer, total_steps=epochs*len(train_loader), max_lr=lr,\\\n",
    "             #pct_start=0.25, anneal_strategy='linear', div_factor=10.0)\n",
    "#lrs, losses = infer.find_lr(model, optimizer, train_loader, args.device)\n",
    "#plt.plot(lrs, losses)"
   ]
  },
  {
   "cell_type": "code",
   "execution_count": 7,
   "metadata": {},
   "outputs": [],
   "source": [
    "shutil.rmtree('../logs/') \n",
    "writer = SummaryWriter('../logs/cifar10')\n",
    "start_time, end_time = torch.cuda.Event(enable_timing=True),\\\n",
    "                        torch.cuda.Event(enable_timing=True)\n",
    "start_time.record()"
   ]
  },
  {
   "cell_type": "code",
   "execution_count": null,
   "metadata": {},
   "outputs": [
    {
     "data": {
      "application/vnd.jupyter.widget-view+json": {
       "model_id": "ce9ed7d99228471f92411313e509a3f1",
       "version_major": 2,
       "version_minor": 0
      },
      "text/plain": [
       "HBox(children=(FloatProgress(value=0.0, max=120.0), HTML(value='')))"
      ]
     },
     "metadata": {},
     "output_type": "display_data"
    },
    {
     "name": "stdout",
     "output_type": "stream",
     "text": [
      "|Train/Valid Loss: 0.498 / 0.576|--|Train/Valid Acc: 0.831 / 0.803|\r"
     ]
    }
   ],
   "source": [
    "for rnd in tqdm(range(1, args.epochs+1)):\n",
    "    model.train()\n",
    "    train_loss, train_acc = 0.0, 0.0 \n",
    "    for _, (inputs, labels) in enumerate(train_loader):\n",
    "        # pass inputs to device, clear gradients\n",
    "        inputs, labels = inputs.to(device=args.device, non_blocking=True),\\\n",
    "                        labels.to(device=args.device, non_blocking=True)\n",
    "        optimizer.zero_grad()\n",
    "        \n",
    "        # forward-backward pass and update\n",
    "        outputs = model(inputs)\n",
    "        minibatch_loss = criterion(outputs, labels)\n",
    "        minibatch_loss.backward()\n",
    "        optimizer.step()\n",
    "        #scheduler.step()\n",
    "        \n",
    "        # keep track of round loss/accuracy\n",
    "        train_loss += minibatch_loss.item()*outputs.shape[0]\n",
    "        _, pred_labels = torch.max(outputs, 1)\n",
    "        train_acc += torch.sum(torch.eq(pred_labels.view(-1), labels)).item()\n",
    "        \n",
    "     # inference after round \n",
    "    train_loss, train_acc = train_loss/len(train_dataset), train_acc/len(train_dataset)       \n",
    "    val_loss, (val_acc, val_per_class) = infer.get_loss_n_accuracy(model, criterion, val_loader, args)                                  \n",
    "    scheduler.step(val_loss)\n",
    "    # log/print data\n",
    "    writer.add_scalar('Validation/Loss', val_loss, rnd)\n",
    "    writer.add_scalar('Validation/Accuracy', val_acc, rnd)\n",
    "    writer.add_scalar('Training/Loss', train_loss, rnd)\n",
    "    writer.add_scalar('Training/Accuracy', train_acc, rnd)\n",
    "    print(f'|Train/Valid Loss: {train_loss:.3f} / {val_loss:.3f}|', end='--')\n",
    "    print(f'|Train/Valid Acc: {train_acc:.3f} / {val_acc:.3f}|', end='\\r')"
   ]
  },
  {
   "cell_type": "code",
   "execution_count": null,
   "metadata": {},
   "outputs": [],
   "source": [
    "end_time.record()\n",
    "torch.cuda.synchronize()\n",
    "time_elapsed_secs = start_time.elapsed_time(end_time)/10**3\n",
    "time_elapsed_mins = time_elapsed_secs/60\n",
    "print(f'Training took {time_elapsed_secs:.2f} seconds / {time_elapsed_mins:.2f} minutes')\n"
   ]
  }
 ],
 "metadata": {
  "kernelspec": {
   "display_name": "Python 3",
   "language": "python",
   "name": "python3"
  },
  "language_info": {
   "codemirror_mode": {
    "name": "ipython",
    "version": 3
   },
   "file_extension": ".py",
   "mimetype": "text/x-python",
   "name": "python",
   "nbconvert_exporter": "python",
   "pygments_lexer": "ipython3",
   "version": "3.7.3"
  }
 },
 "nbformat": 4,
 "nbformat_minor": 2
}
