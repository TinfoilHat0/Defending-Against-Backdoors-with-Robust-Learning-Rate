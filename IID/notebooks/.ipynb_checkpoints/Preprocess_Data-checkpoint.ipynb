{
 "cells": [
  {
   "cell_type": "code",
   "execution_count": 1,
   "metadata": {},
   "outputs": [],
   "source": [
    "import sys\n",
    "sys.path.insert(1, '../src/')\n",
    "import torch\n",
    "import json\n",
    "import numpy as np\n",
    "import matplotlib.pyplot as plt\n",
    "from PIL import Image\n",
    "import h5py\n",
    "import torch\n",
    "from torch.utils.data import DataLoader, Dataset\n",
    "from torchvision import datasets, transforms\n",
    "import helper\n",
    "import utils\n",
    "import models\n",
    "import torch.nn as nn\n",
    "import inference as infer\n",
    "import torch.nn.functional as F\n",
    "from torch.utils.data import DataLoader\n",
    "from torch.utils.tensorboard import SummaryWriter\n",
    "from torch.nn.utils import parameters_to_vector, vector_to_parameters\n",
    "import matplotlib.pyplot as plt\n",
    "import numpy as np\n",
    "import torch.optim as optim\n",
    "import torchvision\n",
    "from tqdm.notebook import tqdm\n",
    "import matplotlib.pyplot as plt\n",
    "import math\n",
    "import random\n",
    "import shutil"
   ]
  },
  {
   "cell_type": "code",
   "execution_count": 2,
   "metadata": {},
   "outputs": [],
   "source": [
    "class H5Dataset(Dataset):\n",
    "    def __init__(self, dataset, client_id):\n",
    "        self.targets = torch.LongTensor(dataset[client_id]['label'])\n",
    "        self.inputs = torch.Tensor(dataset[client_id]['pixels'])\n",
    "        shape = self.inputs.shape\n",
    "        self.inputs = self.inputs.view(shape[0], 1, shape[1], shape[2])\n",
    "        \n",
    "    def classes(self):\n",
    "        return torch.unique(self.targets)\n",
    "    \n",
    "    def __add__(self, other): \n",
    "        self.targets = torch.cat( (self.targets, other.targets), 0)\n",
    "        self.inputs = torch.cat( (self.inputs, other.inputs), 0)\n",
    "        return self\n",
    "    \n",
    "    def to(self, device):\n",
    "        self.targets = self.targets.to(device)\n",
    "        self.inputs = self.inputs.to(device)\n",
    "\n",
    "    def __len__(self):\n",
    "        return self.targets.shape[0]\n",
    "\n",
    "    def __getitem__(self, item):\n",
    "        inp, target = self.inputs[item], self.targets[item]\n",
    "        return inp, target"
   ]
  },
  {
   "cell_type": "code",
   "execution_count": 3,
   "metadata": {},
   "outputs": [],
   "source": [
    "train_dir = '../data/Fed_EMNIST/fed_emnist_digitsonly_train.h5'\n",
    "val_dir = '../data/Fed_EMNIST/fed_emnist_digitsonly_test.h5'"
   ]
  },
  {
   "cell_type": "code",
   "execution_count": 4,
   "metadata": {},
   "outputs": [],
   "source": [
    "trainset = h5py.File(train_dir, 'r')['examples']\n",
    "valset = h5py.File(val_dir, 'r')['examples']"
   ]
  },
  {
   "cell_type": "code",
   "execution_count": 5,
   "metadata": {},
   "outputs": [],
   "source": [
    "users = [*trainset.keys()]\n",
    "user_dict = {}\n",
    "for i in range(len(users)):\n",
    "    user_dict[users[i]] = i"
   ]
  },
  {
   "cell_type": "code",
   "execution_count": 6,
   "metadata": {},
   "outputs": [
    {
     "data": {
      "application/vnd.jupyter.widget-view+json": {
       "model_id": "191c1c5428e94a909b9606016cb62f67",
       "version_major": 2,
       "version_minor": 0
      },
      "text/plain": [
       "HBox(children=(FloatProgress(value=0.0, max=3383.0), HTML(value='')))"
      ]
     },
     "metadata": {},
     "output_type": "display_data"
    },
    {
     "name": "stdout",
     "output_type": "stream",
     "text": [
      "\n"
     ]
    }
   ],
   "source": [
    "for key in tqdm(user_dict):\n",
    "    user_trainset = H5Dataset(trainset, key)\n",
    "    user_valset = H5Dataset(valset, key)\n",
    "    torch.save(user_trainset, f'../data/Fed_EMNIST/user_trainsets/user_{user_dict[key]}_trainset.pt')\n",
    "    torch.save(user_valset, f'../data/Fed_EMNIST/user_valsets/user_{user_dict[key]}_valset.pt')"
   ]
  },
  {
   "cell_type": "code",
   "execution_count": null,
   "metadata": {},
   "outputs": [],
   "source": [
    "dict[3] = [20, 3]\n",
    "d[0] = [1, 10]\n",
    "d[1] = [2, 15]\n",
    "d[2] = [1, 4]"
   ]
  }
 ],
 "metadata": {
  "kernelspec": {
   "display_name": "Python 3",
   "language": "python",
   "name": "python3"
  },
  "language_info": {
   "codemirror_mode": {
    "name": "ipython",
    "version": 3
   },
   "file_extension": ".py",
   "mimetype": "text/x-python",
   "name": "python",
   "nbconvert_exporter": "python",
   "pygments_lexer": "ipython3",
   "version": "3.7.3"
  }
 },
 "nbformat": 4,
 "nbformat_minor": 2
}
