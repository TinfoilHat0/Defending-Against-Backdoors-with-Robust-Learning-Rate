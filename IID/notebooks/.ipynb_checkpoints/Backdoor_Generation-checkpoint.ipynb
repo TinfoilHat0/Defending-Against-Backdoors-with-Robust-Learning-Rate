{
 "cells": [
  {
   "cell_type": "code",
   "execution_count": 122,
   "metadata": {},
   "outputs": [],
   "source": [
    "import sys\n",
    "sys.path.insert(1, '../src/')\n",
    "import torch\n",
    "from tqdm import tqdm\n",
    "import torch.nn as nn\n",
    "import torch.optim as optim\n",
    "from torch.optim import lr_scheduler\n",
    "import numpy as np\n",
    "import torchvision\n",
    "from torchvision import datasets,transforms\n",
    "from torch.utils.tensorboard import SummaryWriter\n",
    "from torch.utils.data import DataLoader\n",
    "from torch.nn.utils import vector_to_parameters, parameters_to_vector\n",
    "import matplotlib.pyplot as plt\n",
    "import inference as infer\n",
    "import time\n",
    "import os\n",
    "import copy\n",
    "import utils\n",
    "from torchsummary import summary\n",
    "import models\n",
    "import random\n",
    "from PIL import Image\n",
    "from utils import H5Dataset"
   ]
  },
  {
   "cell_type": "code",
   "execution_count": 169,
   "metadata": {},
   "outputs": [],
   "source": [
    "# from https://github.com/IBM/adversarial-robustness-toolbox/tree/master/examples\n",
    "def add_pattern_bd(x, distance=25, pixel_value=255):\n",
    "    \"\"\"\n",
    "    Augments a matrix by setting a checkboard-like pattern of values some `distance` away from the bottom-right\n",
    "    edge to 1. Works for single images or a batch of images.\n",
    "    :param x: N X W X H matrix or W X H matrix. will apply to last 2\n",
    "    :type x: `np.ndarray`\n",
    "    :param distance: distance from bottom-right walls. defaults to 2\n",
    "    :type distance: `int`\n",
    "    :param pixel_value: Value used to replace the entries of the image matrix\n",
    "    :type pixel_value: `int`\n",
    "    :return: augmented matrix\n",
    "    :rtype: np.ndarray\n",
    "    \"\"\"\n",
    "\n",
    "    width, height = 28, 28\n",
    "    x = np.array(x)\n",
    "    x[0, width - distance, height - distance] = pixel_value\n",
    "    x[0, width - distance - 1, height - distance - 1] = pixel_value\n",
    "    x[0, width - distance-2, height - distance - 2] = pixel_value\n",
    "    x[0, width - distance - 2, height - distance] = pixel_value\n",
    "    x[0, width - distance, height - distance-2] = pixel_value\n",
    "    \n",
    "    return x"
   ]
  },
  {
   "cell_type": "code",
   "execution_count": 170,
   "metadata": {},
   "outputs": [
    {
     "data": {
      "text/plain": [
       "<bound method H5Dataset.classes of <utils.H5Dataset object at 0x7f40dfa34518>>"
      ]
     },
     "execution_count": 170,
     "metadata": {},
     "output_type": "execute_result"
    }
   ],
   "source": [
    "train_dataset, val_dataset = utils.get_datasets('fedemnist')\n",
    "train_dataset.classes"
   ]
  },
  {
   "cell_type": "code",
   "execution_count": 171,
   "metadata": {},
   "outputs": [],
   "source": [
    "img_data = val_dataset.inputs[59] #59"
   ]
  },
  {
   "cell_type": "code",
   "execution_count": 175,
   "metadata": {},
   "outputs": [
    {
     "data": {
      "text/plain": [
       "<matplotlib.image.AxesImage at 0x7f40df2293c8>"
      ]
     },
     "execution_count": 175,
     "metadata": {},
     "output_type": "execute_result"
    },
    {
     "data": {
      "image/png": "[encoded data removed]",
      "text/plain": [
       "<Figure size 432x288 with 1 Axes>"
      ]
     },
     "metadata": {
      "needs_background": "light"
     },
     "output_type": "display_data"
    }
   ],
   "source": [
    "backdoored_img = torch.tensor(add_pattern_bd(img_data, distance=15, pixel_value=0))\n",
    "plt.imshow(backdoored_img[0, :])"
   ]
  },
  {
   "cell_type": "code",
   "execution_count": 9,
   "metadata": {},
   "outputs": [
    {
     "data": {
      "text/plain": [
       "torch.Size([1, 28, 28])"
      ]
     },
     "execution_count": 9,
     "metadata": {},
     "output_type": "execute_result"
    }
   ],
   "source": [
    "img_data.shape"
   ]
  },
  {
   "cell_type": "code",
   "execution_count": null,
   "metadata": {},
   "outputs": [],
   "source": [
    "idxs = (val_dataset.targets == 0).nonzero().flatten().tolist()"
   ]
  },
  {
   "cell_type": "code",
   "execution_count": null,
   "metadata": {},
   "outputs": [],
   "source": [
    "poisoned_val_dataset = utils.DatasetSplit(copy.deepcopy(val_dataset), idxs)\n",
    "img_data = poisoned_val_dataset.dataset.data[3]\n",
    "plt.imshow(img_data)"
   ]
  },
  {
   "cell_type": "code",
   "execution_count": null,
   "metadata": {},
   "outputs": [],
   "source": [
    "utils.poison_dataset(poisoned_val_dataset.dataset, 0, 2, 1, data_idxs=idxs)\n",
    "img_data = poisoned_val_dataset.dataset.data[3]\n",
    "plt.imshow(img_data)"
   ]
  },
  {
   "cell_type": "code",
   "execution_count": null,
   "metadata": {},
   "outputs": [],
   "source": [
    "img_data = val_dataset.data[3]\n",
    "plt.imshow(img_data)"
   ]
  },
  {
   "cell_type": "code",
   "execution_count": null,
   "metadata": {},
   "outputs": [],
   "source": []
  }
 ],
 "metadata": {
  "kernelspec": {
   "display_name": "Python 3",
   "language": "python",
   "name": "python3"
  },
  "language_info": {
   "codemirror_mode": {
    "name": "ipython",
    "version": 3
   },
   "file_extension": ".py",
   "mimetype": "text/x-python",
   "name": "python",
   "nbconvert_exporter": "python",
   "pygments_lexer": "ipython3",
   "version": "3.7.3"
  }
 },
 "nbformat": 4,
 "nbformat_minor": 2
}
