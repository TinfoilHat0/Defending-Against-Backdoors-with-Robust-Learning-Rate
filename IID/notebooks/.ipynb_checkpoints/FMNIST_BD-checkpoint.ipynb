{
 "cells": [
  {
   "cell_type": "code",
   "execution_count": 2,
   "metadata": {},
   "outputs": [],
   "source": [
    "import sys\n",
    "sys.path.insert(1, '../src/')\n",
    "import torch\n",
    "from torchvision import datasets, transforms\n",
    "import helper\n",
    "import utils\n",
    "import models\n",
    "import torch.nn as nn\n",
    "import torch.nn.functional as F\n",
    "from torch.utils.data import DataLoader\n",
    "from torch.utils.tensorboard import SummaryWriter\n",
    "from torch.nn.utils import parameters_to_vector, vector_to_parameters\n",
    "import matplotlib.pyplot as plt\n",
    "import numpy as np\n",
    "import torch.optim as optim\n",
    "import torchvision\n",
    "from tqdm.notebook import tqdm\n",
    "import matplotlib.pyplot as plt\n",
    "import math\n",
    "import random\n",
    "import shutil\n",
    "import copy"
   ]
  },
  {
   "cell_type": "code",
   "execution_count": 3,
   "metadata": {},
   "outputs": [],
   "source": [
    "torch.backends.cudnn.enabled = True\n",
    "torch.backends.cudnn.benchmark = True"
   ]
  },
  {
   "cell_type": "code",
   "execution_count": 4,
   "metadata": {},
   "outputs": [],
   "source": [
    "class args:\n",
    "    data='cifar10'\n",
    "    bs=128\n",
    "    device='cuda:0'\n",
    "    lr=0.01\n",
    "    moment=0.9\n",
    "    wd=1e-4\n",
    "    epoch=50\n",
    "    nesterov=True\n",
    "    base_class = 1 #automobile\n",
    "    target_class = 9 # truck\n",
    "    poison_frac = 0.1"
   ]
  },
  {
   "cell_type": "code",
   "execution_count": 5,
   "metadata": {},
   "outputs": [
    {
     "name": "stdout",
     "output_type": "stream",
     "text": [
      "Files already downloaded and verified\n",
      "Files already downloaded and verified\n"
     ]
    }
   ],
   "source": [
    "train_dataset, val_dataset = utils.get_datasets(args.data)"
   ]
  },
  {
   "cell_type": "code",
   "execution_count": 6,
   "metadata": {},
   "outputs": [
    {
     "data": {
      "text/plain": [
       "['airplane',\n",
       " 'automobile',\n",
       " 'bird',\n",
       " 'cat',\n",
       " 'deer',\n",
       " 'dog',\n",
       " 'frog',\n",
       " 'horse',\n",
       " 'ship',\n",
       " 'truck']"
      ]
     },
     "execution_count": 6,
     "metadata": {},
     "output_type": "execute_result"
    }
   ],
   "source": [
    "train_dataset.classes"
   ]
  },
  {
   "cell_type": "code",
   "execution_count": null,
   "metadata": {},
   "outputs": [],
   "source": [
    "utils.poison_dataset(train_dataset, args)\n",
    "idxs = (val_dataset.targets == args.base_class).nonzero().flatten().tolist()\n",
    "poisoned_val_set = utils.DatasetSplit(copy.deepcopy(val_dataset), idxs)\n",
    "utils.poison_dataset(poisoned_val_set.dataset, args, idxs, poison_all=True)"
   ]
  },
  {
   "cell_type": "code",
   "execution_count": null,
   "metadata": {},
   "outputs": [],
   "source": [
    "train_loader = DataLoader(train_dataset, batch_size=args.bs, shuffle=True, num_workers=2, pin_memory=True)\n",
    "val_loader =  DataLoader(val_dataset, batch_size=len(val_dataset), shuffle=False, num_workers=2, pin_memory=True)\n",
    "poisoned_val_loader = DataLoader(poisoned_val_set, batch_size=args.bs, shuffle=False, num_workers=0, pin_memory=True)   "
   ]
  },
  {
   "cell_type": "code",
   "execution_count": null,
   "metadata": {},
   "outputs": [],
   "source": [
    "model = models.get_model(args.data).to(args.device)\n",
    "criterion = nn.CrossEntropyLoss().to(args.device)\n",
    "optimizer = torch.optim.SGD(model.parameters(), lr=args.lr, momentum=args.moment, weight_decay=args.wd,\\\n",
    "                            nesterov=args.nesterov)\n",
    "scheduler = optim.lr_scheduler.ReduceLROnPlateau(optimizer, patience=10, verbose=True)"
   ]
  },
  {
   "cell_type": "code",
   "execution_count": null,
   "metadata": {},
   "outputs": [],
   "source": [
    "#shutil.rmtree('../logs/') \n",
    "writer = SummaryWriter('../logs/fmnist')\n",
    "start_time, end_time = torch.cuda.Event(enable_timing=True), torch.cuda.Event(enable_timing=True)\n",
    "start_time.record()"
   ]
  },
  {
   "cell_type": "code",
   "execution_count": null,
   "metadata": {},
   "outputs": [],
   "source": [
    "# training loop\n",
    "for rnd in tqdm(range(1, args.epoch+1)):\n",
    "    model.train()\n",
    "    train_loss, train_acc = 0.0, 0.0\n",
    "    for _, (inputs, labels) in enumerate(train_loader):\n",
    "        # pass inputs to device, clear gradients\n",
    "        inputs, labels = inputs.to(args.device, non_blocking=True),\\\n",
    "                        labels.to(args.device, non_blocking=True)\n",
    "        optimizer.zero_grad()\n",
    "        \n",
    "        # forward-backward pass and update\n",
    "        outputs = model(inputs)\n",
    "        minibatch_loss = criterion(outputs, labels)\n",
    "        minibatch_loss.backward()\n",
    "        optimizer.step()\n",
    "       \n",
    "    # inference after round        \n",
    "    val_loss, (val_acc, val_per_class) = infer.get_loss_n_accuracy(model, criterion, val_loader, args)\n",
    "    poison_loss, (poison_acc, _) = infer.get_loss_n_accuracy(model, criterion, poisoned_val_loader, args)\n",
    "    scheduler.step(val_loss)\n",
    "    # log/print data\n",
    "    writer.add_scalar('Validation/Loss', val_loss, rnd)\n",
    "    writer.add_scalar('Validation/Accuracy', val_acc, rnd)\n",
    "    writer.add_scalar('Training/Loss', train_loss, rnd)\n",
    "    writer.add_scalar('Training/Accuracy', train_acc, rnd)\n",
    "    print(f'|Train/Valid Loss: {train_loss:.3f} / {val_loss:.3f}|')\n",
    "    print(f'|Train/Valid Acc: {train_acc:.3f} / {val_acc:.3f}|')\n",
    "    print(f'|Poison Loss/Poison Acc: {poison_loss:.3f} / {poison_acc:.3f} |')"
   ]
  },
  {
   "cell_type": "code",
   "execution_count": null,
   "metadata": {},
   "outputs": [],
   "source": [
    "end_time.record()\n",
    "torch.cuda.synchronize()\n",
    "time_elapsed_secs = start_time.elapsed_time(end_time)/10**3\n",
    "time_elapsed_mins = time_elapsed_secs/60\n",
    "print(f'Training took {time_elapsed_secs:.2f} seconds / {time_elapsed_mins:.2f} minutes')"
   ]
  },
  {
   "cell_type": "code",
   "execution_count": null,
   "metadata": {},
   "outputs": [],
   "source": [
    "torch.save(model, 'fmnist_bd_model.pt')"
   ]
  },
  {
   "cell_type": "code",
   "execution_count": null,
   "metadata": {},
   "outputs": [],
   "source": []
  }
 ],
 "metadata": {
  "kernelspec": {
   "display_name": "Python 3",
   "language": "python",
   "name": "python3"
  },
  "language_info": {
   "codemirror_mode": {
    "name": "ipython",
    "version": 3
   },
   "file_extension": ".py",
   "mimetype": "text/x-python",
   "name": "python",
   "nbconvert_exporter": "python",
   "pygments_lexer": "ipython3",
   "version": "3.7.3"
  }
 },
 "nbformat": 4,
 "nbformat_minor": 2
}
