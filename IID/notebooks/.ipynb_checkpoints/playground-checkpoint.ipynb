{
 "cells": [
  {
   "cell_type": "code",
   "execution_count": 2,
   "metadata": {},
   "outputs": [],
   "source": [
    "import sys\n",
    "sys.path.insert(1, '../src/')\n",
    "import torch\n",
    "from torchvision import datasets, transforms\n",
    "import helper\n",
    "import utils\n",
    "import models\n",
    "import torch.nn as nn\n",
    "import inference as infer\n",
    "import torch.nn.functional as F\n",
    "from torch.utils.data import DataLoader\n",
    "from torch.utils.tensorboard import SummaryWriter\n",
    "from torch.nn.utils import parameters_to_vector, vector_to_parameters\n",
    "import matplotlib.pyplot as plt\n",
    "import numpy as np\n",
    "import torch.optim as optim\n",
    "import torchvision\n",
    "from tqdm import tqdm\n",
    "import matplotlib.pyplot as plt"
   ]
  },
  {
   "cell_type": "code",
   "execution_count": 3,
   "metadata": {},
   "outputs": [],
   "source": [
    "t=10\n",
    "d=5"
   ]
  },
  {
   "cell_type": "code",
   "execution_count": 4,
   "metadata": {},
   "outputs": [],
   "source": [
    "noise_matrix = []"
   ]
  },
  {
   "cell_type": "code",
   "execution_count": 5,
   "metadata": {},
   "outputs": [
    {
     "name": "stdout",
     "output_type": "stream",
     "text": [
      "tensor([-0.9615, -1.3119, -1.0395,  0.2071, -1.4504,  1.8037, -0.1753, -0.4736,\n",
      "         0.6719,  0.0602])\n",
      "tensor([-1.9451, -0.0034,  0.5033, -0.3321,  0.2861,  1.1398, -1.0038,  0.1796,\n",
      "         1.4904, -0.4654])\n",
      "tensor([ 1.8850, -1.0845, -1.3098,  0.7774, -0.9552, -0.9134,  0.9837,  0.7862,\n",
      "        -0.0549,  2.4160])\n",
      "tensor([ 0.4205,  0.2600,  1.2176, -1.0904, -1.1012,  0.4891,  0.6924, -0.4737,\n",
      "         1.1186,  0.2831])\n",
      "tensor([-0.4191, -1.7288,  0.5973, -0.1847,  0.1179, -0.4665,  0.1330,  1.1549,\n",
      "        -1.0792,  0.3524])\n"
     ]
    }
   ],
   "source": [
    "for _ in range(d):\n",
    "    noise = torch.distributions.Normal(0, 1).sample_n(t)\n",
    "    print(noise)\n",
    "    noise_matrix.append(noise)"
   ]
  },
  {
   "cell_type": "code",
   "execution_count": 6,
   "metadata": {},
   "outputs": [
    {
     "data": {
      "text/plain": [
       "tensor([[-0.9615, -1.3119, -1.0395,  0.2071, -1.4504,  1.8037, -0.1753, -0.4736,\n",
       "          0.6719,  0.0602],\n",
       "        [-1.9451, -0.0034,  0.5033, -0.3321,  0.2861,  1.1398, -1.0038,  0.1796,\n",
       "          1.4904, -0.4654],\n",
       "        [ 1.8850, -1.0845, -1.3098,  0.7774, -0.9552, -0.9134,  0.9837,  0.7862,\n",
       "         -0.0549,  2.4160],\n",
       "        [ 0.4205,  0.2600,  1.2176, -1.0904, -1.1012,  0.4891,  0.6924, -0.4737,\n",
       "          1.1186,  0.2831],\n",
       "        [-0.4191, -1.7288,  0.5973, -0.1847,  0.1179, -0.4665,  0.1330,  1.1549,\n",
       "         -1.0792,  0.3524]])"
      ]
     },
     "execution_count": 6,
     "metadata": {},
     "output_type": "execute_result"
    }
   ],
   "source": [
    "noise_matrix = torch.stack(noise_matrix)"
   ]
  },
  {
   "cell_type": "code",
   "execution_count": 44,
   "metadata": {},
   "outputs": [],
   "source": []
  },
  {
   "cell_type": "code",
   "execution_count": 46,
   "metadata": {},
   "outputs": [
    {
     "data": {
      "text/plain": [
       "tensor([ 0.9305,  1.9451,  0.1872, -0.7325, -0.1024])"
      ]
     },
     "execution_count": 46,
     "metadata": {},
     "output_type": "execute_result"
    }
   ],
   "source": [
    "noise_matrix[0]"
   ]
  },
  {
   "cell_type": "code",
   "execution_count": null,
   "metadata": {},
   "outputs": [],
   "source": []
  }
 ],
 "metadata": {
  "kernelspec": {
   "display_name": "Python 3",
   "language": "python",
   "name": "python3"
  },
  "language_info": {
   "codemirror_mode": {
    "name": "ipython",
    "version": 3
   },
   "file_extension": ".py",
   "mimetype": "text/x-python",
   "name": "python",
   "nbconvert_exporter": "python",
   "pygments_lexer": "ipython3",
   "version": "3.7.3"
  }
 },
 "nbformat": 4,
 "nbformat_minor": 2
}
